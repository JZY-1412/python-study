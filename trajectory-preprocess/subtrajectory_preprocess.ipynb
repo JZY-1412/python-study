{
 "cells": [
  {
   "cell_type": "markdown",
   "source": [
    "# Read Data"
   ],
   "metadata": {
    "collapsed": false
   }
  },
  {
   "cell_type": "code",
   "execution_count": 1,
   "outputs": [],
   "source": [
    "import pandas as pd\n",
    "import torch\n",
    "from torch.nn import functional as F"
   ],
   "metadata": {
    "collapsed": false
   }
  },
  {
   "cell_type": "code",
   "execution_count": 2,
   "metadata": {
    "collapsed": true
   },
   "outputs": [
    {
     "data": {
      "text/plain": "                                                POLYLINE  \\\n0      [[-8.618643, 41.141412], [-8.618499, 41.141376...   \n1      [[-8.612964, 41.140359], [-8.613378, 41.14035]...   \n2      [[-8.574678, 41.151951], [-8.574705, 41.151942...   \n3      [[-8.645994, 41.18049], [-8.645949, 41.180517]...   \n4      [[-8.615502, 41.140674], [-8.614854, 41.140926...   \n...                                                  ...   \n89006  [[-8.649297, 41.154309], [-8.650044, 41.154228...   \n89007  [[-8.6139, 41.141133], [-8.613891, 41.141115],...   \n89008  [[-8.606475, 41.144508], [-8.60652, 41.144517]...   \n89009  [[-8.604945, 41.149692], [-8.605368, 41.149773...   \n89010  [[-8.613999, 41.141376], [-8.61399, 41.141367]...   \n\n                                                CP_INDEX  \n0               [0, 3, 6, 8, 11, 13, 15, 17, 19, 20, 22]  \n1      [0, 3, 6, 9, 11, 13, 16, 18, 21, 24, 27, 29, 3...  \n2      [0, 3, 6, 8, 10, 12, 14, 16, 18, 21, 23, 26, 2...  \n3      [0, 2, 4, 6, 8, 10, 12, 15, 17, 19, 21, 24, 26...  \n4               [0, 2, 5, 8, 11, 14, 16, 18, 20, 22, 25]  \n...                                                  ...  \n89006  [0, 2, 5, 8, 11, 14, 16, 19, 21, 23, 26, 28, 3...  \n89007  [0, 3, 5, 8, 11, 13, 15, 17, 20, 23, 26, 29, 3...  \n89008  [0, 3, 5, 7, 9, 11, 13, 16, 19, 22, 24, 26, 29...  \n89009  [0, 2, 4, 6, 8, 10, 13, 15, 18, 22, 24, 26, 28...  \n89010  [0, 4, 7, 10, 12, 15, 18, 21, 24, 26, 29, 31, ...  \n\n[89011 rows x 2 columns]",
      "text/html": "<div>\n<style scoped>\n    .dataframe tbody tr th:only-of-type {\n        vertical-align: middle;\n    }\n\n    .dataframe tbody tr th {\n        vertical-align: top;\n    }\n\n    .dataframe thead th {\n        text-align: right;\n    }\n</style>\n<table border=\"1\" class=\"dataframe\">\n  <thead>\n    <tr style=\"text-align: right;\">\n      <th></th>\n      <th>POLYLINE</th>\n      <th>CP_INDEX</th>\n    </tr>\n  </thead>\n  <tbody>\n    <tr>\n      <th>0</th>\n      <td>[[-8.618643, 41.141412], [-8.618499, 41.141376...</td>\n      <td>[0, 3, 6, 8, 11, 13, 15, 17, 19, 20, 22]</td>\n    </tr>\n    <tr>\n      <th>1</th>\n      <td>[[-8.612964, 41.140359], [-8.613378, 41.14035]...</td>\n      <td>[0, 3, 6, 9, 11, 13, 16, 18, 21, 24, 27, 29, 3...</td>\n    </tr>\n    <tr>\n      <th>2</th>\n      <td>[[-8.574678, 41.151951], [-8.574705, 41.151942...</td>\n      <td>[0, 3, 6, 8, 10, 12, 14, 16, 18, 21, 23, 26, 2...</td>\n    </tr>\n    <tr>\n      <th>3</th>\n      <td>[[-8.645994, 41.18049], [-8.645949, 41.180517]...</td>\n      <td>[0, 2, 4, 6, 8, 10, 12, 15, 17, 19, 21, 24, 26...</td>\n    </tr>\n    <tr>\n      <th>4</th>\n      <td>[[-8.615502, 41.140674], [-8.614854, 41.140926...</td>\n      <td>[0, 2, 5, 8, 11, 14, 16, 18, 20, 22, 25]</td>\n    </tr>\n    <tr>\n      <th>...</th>\n      <td>...</td>\n      <td>...</td>\n    </tr>\n    <tr>\n      <th>89006</th>\n      <td>[[-8.649297, 41.154309], [-8.650044, 41.154228...</td>\n      <td>[0, 2, 5, 8, 11, 14, 16, 19, 21, 23, 26, 28, 3...</td>\n    </tr>\n    <tr>\n      <th>89007</th>\n      <td>[[-8.6139, 41.141133], [-8.613891, 41.141115],...</td>\n      <td>[0, 3, 5, 8, 11, 13, 15, 17, 20, 23, 26, 29, 3...</td>\n    </tr>\n    <tr>\n      <th>89008</th>\n      <td>[[-8.606475, 41.144508], [-8.60652, 41.144517]...</td>\n      <td>[0, 3, 5, 7, 9, 11, 13, 16, 19, 22, 24, 26, 29...</td>\n    </tr>\n    <tr>\n      <th>89009</th>\n      <td>[[-8.604945, 41.149692], [-8.605368, 41.149773...</td>\n      <td>[0, 2, 4, 6, 8, 10, 13, 15, 18, 22, 24, 26, 28...</td>\n    </tr>\n    <tr>\n      <th>89010</th>\n      <td>[[-8.613999, 41.141376], [-8.61399, 41.141367]...</td>\n      <td>[0, 4, 7, 10, 12, 15, 18, 21, 24, 26, 29, 31, ...</td>\n    </tr>\n  </tbody>\n</table>\n<p>89011 rows × 2 columns</p>\n</div>"
     },
     "execution_count": 2,
     "metadata": {},
     "output_type": "execute_result"
    }
   ],
   "source": [
    "trajectories = pd.read_csv(\"../data/porto-data/processed_small_porto_with_cp.csv\")\n",
    "trajectories"
   ]
  },
  {
   "cell_type": "markdown",
   "source": [
    "# Data Preprocess"
   ],
   "metadata": {
    "collapsed": false
   }
  },
  {
   "cell_type": "code",
   "execution_count": 37,
   "outputs": [],
   "source": [
    "grid_height, grid_width = 0.1, 0.1\n",
    "boundary = {'min_lat': 41.140092, 'max_lat': 41.185969, 'min_lng': -8.690261, 'max_lng': -8.549155}\n",
    "\n",
    "def height2lat(height):\n",
    "    return height / 110.574\n",
    "\n",
    "\n",
    "def width2lng(width):\n",
    "    return width / 111.320 / 0.99974\n",
    "\n",
    "\n",
    "def in_boundary(lat, lng, b):\n",
    "    return b['min_lng'] < lng < b['max_lng'] and b['min_lat'] < lat < b['max_lat']\n",
    "\n",
    "\n",
    "def data_preprocess():\n",
    "    lat_size, lng_size = height2lat(grid_height), width2lng(grid_width)\n",
    "\n",
    "    lat_grid_num = int((boundary['max_lat'] - boundary['min_lat']) / lat_size) + 1\n",
    "    lng_grid_num = int((boundary['max_lng'] - boundary['min_lng']) / lng_size) + 1\n",
    "\n",
    "    trajectories = pd.read_csv(\"../data/porto-data/processed_small_porto_with_cp.csv\")\n",
    "    processed_trajectories = []\n",
    "    processed_subtrajectories = []\n",
    "\n",
    "    total_traj_num = len(trajectories)\n",
    "    for i, (idx, traj) in enumerate(trajectories.iterrows()):\n",
    "\n",
    "        if i % 10000 == 0:\n",
    "            print(\"Complete: {}; Total: {}\".format(i, total_traj_num))\n",
    "\n",
    "        grid_seq = []\n",
    "        valid = True\n",
    "        polyline = eval(traj[\"POLYLINE\"])\n",
    "        for lng, lat in polyline:\n",
    "            if in_boundary(lat, lng, boundary):\n",
    "                grid_i = int((lat - boundary['min_lat']) / lat_size)\n",
    "                grid_j = int((lng - boundary['min_lng']) / lng_size)\n",
    "                grid_seq.append((grid_i, grid_j))\n",
    "            else:\n",
    "                valid = False\n",
    "                break\n",
    "        grid_seq_subtraj = []\n",
    "        if valid:\n",
    "            processed_trajectories.append(grid_seq)\n",
    "            cp_index = eval(traj[\" CP_INDEX\"])\n",
    "            for index in range(len(cp_index)-1):\n",
    "                cp_start_index = cp_index[index]\n",
    "                cp_end_index = cp_index[index+1]\n",
    "                subtraj_gird = grid_seq[cp_start_index: cp_end_index]\n",
    "                processed_subtrajectories.append(subtraj_gird)\n",
    "    print(\"Grid size:\", (lat_grid_num, lng_grid_num))\n",
    "    print(\"Total valid trajectory number:\", len(processed_trajectories))\n",
    "    print(\"Total subtrajectory number:\", len(processed_subtrajectories))\n",
    "\n",
    "    fout = open(\"../data/porto-data/processed_small_porto_subtrajectory.csv\", 'w')\n",
    "    for traj in processed_subtrajectories:\n",
    "        fout.write(\"[\")\n",
    "        for i, j in traj[:-1]:\n",
    "            fout.write(\"%s, \" % str(i * lng_grid_num + j))\n",
    "        fout.write(\"%s]\\n\" % str(traj[-1][0] * lng_grid_num + traj[-1][1]))\n",
    "    fout.close()\n",
    "\n",
    "    return processed_trajectories, processed_subtrajectories"
   ],
   "metadata": {
    "collapsed": false
   }
  },
  {
   "cell_type": "code",
   "execution_count": 38,
   "outputs": [
    {
     "name": "stdout",
     "output_type": "stream",
     "text": [
      "Complete: 0; Total: 89011\n",
      "Complete: 10000; Total: 89011\n",
      "Complete: 20000; Total: 89011\n",
      "Complete: 30000; Total: 89011\n",
      "Complete: 40000; Total: 89011\n",
      "Complete: 50000; Total: 89011\n",
      "Complete: 60000; Total: 89011\n",
      "Complete: 70000; Total: 89011\n",
      "Complete: 80000; Total: 89011\n",
      "Grid size: (51, 158)\n",
      "Total valid trajectory number: 66247\n",
      "Total subtrajectory number: 1257246\n"
     ]
    }
   ],
   "source": [
    "processed_trajectories, processed_subtrajectories = data_preprocess()"
   ],
   "metadata": {
    "collapsed": false
   }
  },
  {
   "cell_type": "code",
   "execution_count": 40,
   "outputs": [
    {
     "data": {
      "text/plain": "[(1, 79),\n (1, 79),\n (2, 77),\n (4, 75),\n (4, 73),\n (5, 70),\n (5, 69),\n (5, 66),\n (7, 64),\n (8, 65),\n (11, 67),\n (12, 68),\n (12, 68),\n (13, 68),\n (13, 68),\n (13, 68),\n (13, 66),\n (14, 64),\n (15, 65),\n (15, 66),\n (15, 66),\n (15, 66),\n (15, 66)]"
     },
     "execution_count": 40,
     "metadata": {},
     "output_type": "execute_result"
    }
   ],
   "source": [
    "processed_trajectories[0]"
   ],
   "metadata": {
    "collapsed": false
   }
  },
  {
   "cell_type": "code",
   "execution_count": null,
   "outputs": [],
   "source": [
    "processed_subtrajectories"
   ],
   "metadata": {
    "collapsed": false
   }
  }
 ],
 "metadata": {
  "kernelspec": {
   "display_name": "Python 3",
   "language": "python",
   "name": "python3"
  },
  "language_info": {
   "codemirror_mode": {
    "name": "ipython",
    "version": 2
   },
   "file_extension": ".py",
   "mimetype": "text/x-python",
   "name": "python",
   "nbconvert_exporter": "python",
   "pygments_lexer": "ipython2",
   "version": "2.7.6"
  }
 },
 "nbformat": 4,
 "nbformat_minor": 0
}
