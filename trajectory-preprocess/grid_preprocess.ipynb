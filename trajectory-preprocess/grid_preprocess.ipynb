{
 "cells": [
  {
   "cell_type": "markdown",
   "source": [
    "# Trajectory to Grids"
   ],
   "metadata": {
    "collapsed": false
   }
  },
  {
   "cell_type": "code",
   "execution_count": 114,
   "metadata": {
    "collapsed": true
   },
   "outputs": [],
   "source": [
    "import pandas as pd"
   ]
  },
  {
   "cell_type": "code",
   "execution_count": 115,
   "outputs": [],
   "source": [
    "data_dir = '../data/porto-data'\n",
    "data_name = \"porto\"\n",
    "grid_height, grid_width = 0.1, 0.1\n",
    "boundary = {'min_lat': 41.140092, 'max_lat': 41.185969, 'min_lng': -8.690261, 'max_lng': -8.549155}"
   ],
   "metadata": {
    "collapsed": false
   }
  },
  {
   "cell_type": "code",
   "execution_count": 116,
   "outputs": [],
   "source": [
    "def height2lat(height):\n",
    "    return height / 110.574\n",
    "\n",
    "def width2lng(width):\n",
    "    return width / 111.320 / 0.99974\n",
    "\n",
    "def in_boundary(lat, lng, b):\n",
    "    return b['min_lng'] < lng < b['max_lng'] and b['min_lat'] < lat < b['max_lat']"
   ],
   "metadata": {
    "collapsed": false
   }
  },
  {
   "cell_type": "code",
   "execution_count": 117,
   "outputs": [],
   "source": [
    "trajectories = pd.read_csv(\"{}/{}.csv\".format(data_dir, data_name), header=0, index_col=\"TRIP_ID\")\n",
    "total_traj_num = len(trajectories)"
   ],
   "metadata": {
    "collapsed": false
   }
  },
  {
   "cell_type": "code",
   "execution_count": 118,
   "outputs": [
    {
     "data": {
      "text/plain": "                    CALL_TYPE  ORIGIN_CALL  ORIGIN_STAND   TAXI_ID  \\\nTRIP_ID                                                              \n1372636858620000589         C          NaN           NaN  20000589   \n1372637303620000596         B          NaN           7.0  20000596   \n1372636951620000320         C          NaN           NaN  20000320   \n1372636854620000520         C          NaN           NaN  20000520   \n1372637091620000337         C          NaN           NaN  20000337   \n...                       ...          ...           ...       ...   \n1404171463620000698         C          NaN           NaN  20000698   \n1404171367620000670         C          NaN           NaN  20000670   \n1388745716620000264         C          NaN           NaN  20000264   \n1404141826620000248         B          NaN          12.0  20000248   \n1404157147620000079         B          NaN          34.0  20000079   \n\n                      TIMESTAMP DAY_TYPE  MISSING_DATA  \\\nTRIP_ID                                                  \n1372636858620000589  1372636858        A         False   \n1372637303620000596  1372637303        A         False   \n1372636951620000320  1372636951        A         False   \n1372636854620000520  1372636854        A         False   \n1372637091620000337  1372637091        A         False   \n...                         ...      ...           ...   \n1404171463620000698  1404171463        A         False   \n1404171367620000670  1404171367        A         False   \n1388745716620000264  1388745716        A         False   \n1404141826620000248  1404141826        A         False   \n1404157147620000079  1404157147        A         False   \n\n                                                              POLYLINE  \nTRIP_ID                                                                 \n1372636858620000589  [[-8.618643,41.141412],[-8.618499,41.141376],[...  \n1372637303620000596  [[-8.639847,41.159826],[-8.640351,41.159871],[...  \n1372636951620000320  [[-8.612964,41.140359],[-8.613378,41.14035],[-...  \n1372636854620000520  [[-8.574678,41.151951],[-8.574705,41.151942],[...  \n1372637091620000337  [[-8.645994,41.18049],[-8.645949,41.180517],[-...  \n...                                                                ...  \n1404171463620000698  [[-8.612469,41.14602],[-8.612487,41.145993],[-...  \n1404171367620000670  [[-8.610138,41.140845],[-8.610174,41.140935],[...  \n1388745716620000264                                                 []  \n1404141826620000248  [[-8.630712,41.154885],[-8.63073,41.154813],[-...  \n1404157147620000079  [[-8.615538,41.140629],[-8.615421,41.140746],[...  \n\n[1710670 rows x 8 columns]",
      "text/html": "<div>\n<style scoped>\n    .dataframe tbody tr th:only-of-type {\n        vertical-align: middle;\n    }\n\n    .dataframe tbody tr th {\n        vertical-align: top;\n    }\n\n    .dataframe thead th {\n        text-align: right;\n    }\n</style>\n<table border=\"1\" class=\"dataframe\">\n  <thead>\n    <tr style=\"text-align: right;\">\n      <th></th>\n      <th>CALL_TYPE</th>\n      <th>ORIGIN_CALL</th>\n      <th>ORIGIN_STAND</th>\n      <th>TAXI_ID</th>\n      <th>TIMESTAMP</th>\n      <th>DAY_TYPE</th>\n      <th>MISSING_DATA</th>\n      <th>POLYLINE</th>\n    </tr>\n    <tr>\n      <th>TRIP_ID</th>\n      <th></th>\n      <th></th>\n      <th></th>\n      <th></th>\n      <th></th>\n      <th></th>\n      <th></th>\n      <th></th>\n    </tr>\n  </thead>\n  <tbody>\n    <tr>\n      <th>1372636858620000589</th>\n      <td>C</td>\n      <td>NaN</td>\n      <td>NaN</td>\n      <td>20000589</td>\n      <td>1372636858</td>\n      <td>A</td>\n      <td>False</td>\n      <td>[[-8.618643,41.141412],[-8.618499,41.141376],[...</td>\n    </tr>\n    <tr>\n      <th>1372637303620000596</th>\n      <td>B</td>\n      <td>NaN</td>\n      <td>7.0</td>\n      <td>20000596</td>\n      <td>1372637303</td>\n      <td>A</td>\n      <td>False</td>\n      <td>[[-8.639847,41.159826],[-8.640351,41.159871],[...</td>\n    </tr>\n    <tr>\n      <th>1372636951620000320</th>\n      <td>C</td>\n      <td>NaN</td>\n      <td>NaN</td>\n      <td>20000320</td>\n      <td>1372636951</td>\n      <td>A</td>\n      <td>False</td>\n      <td>[[-8.612964,41.140359],[-8.613378,41.14035],[-...</td>\n    </tr>\n    <tr>\n      <th>1372636854620000520</th>\n      <td>C</td>\n      <td>NaN</td>\n      <td>NaN</td>\n      <td>20000520</td>\n      <td>1372636854</td>\n      <td>A</td>\n      <td>False</td>\n      <td>[[-8.574678,41.151951],[-8.574705,41.151942],[...</td>\n    </tr>\n    <tr>\n      <th>1372637091620000337</th>\n      <td>C</td>\n      <td>NaN</td>\n      <td>NaN</td>\n      <td>20000337</td>\n      <td>1372637091</td>\n      <td>A</td>\n      <td>False</td>\n      <td>[[-8.645994,41.18049],[-8.645949,41.180517],[-...</td>\n    </tr>\n    <tr>\n      <th>...</th>\n      <td>...</td>\n      <td>...</td>\n      <td>...</td>\n      <td>...</td>\n      <td>...</td>\n      <td>...</td>\n      <td>...</td>\n      <td>...</td>\n    </tr>\n    <tr>\n      <th>1404171463620000698</th>\n      <td>C</td>\n      <td>NaN</td>\n      <td>NaN</td>\n      <td>20000698</td>\n      <td>1404171463</td>\n      <td>A</td>\n      <td>False</td>\n      <td>[[-8.612469,41.14602],[-8.612487,41.145993],[-...</td>\n    </tr>\n    <tr>\n      <th>1404171367620000670</th>\n      <td>C</td>\n      <td>NaN</td>\n      <td>NaN</td>\n      <td>20000670</td>\n      <td>1404171367</td>\n      <td>A</td>\n      <td>False</td>\n      <td>[[-8.610138,41.140845],[-8.610174,41.140935],[...</td>\n    </tr>\n    <tr>\n      <th>1388745716620000264</th>\n      <td>C</td>\n      <td>NaN</td>\n      <td>NaN</td>\n      <td>20000264</td>\n      <td>1388745716</td>\n      <td>A</td>\n      <td>False</td>\n      <td>[]</td>\n    </tr>\n    <tr>\n      <th>1404141826620000248</th>\n      <td>B</td>\n      <td>NaN</td>\n      <td>12.0</td>\n      <td>20000248</td>\n      <td>1404141826</td>\n      <td>A</td>\n      <td>False</td>\n      <td>[[-8.630712,41.154885],[-8.63073,41.154813],[-...</td>\n    </tr>\n    <tr>\n      <th>1404157147620000079</th>\n      <td>B</td>\n      <td>NaN</td>\n      <td>34.0</td>\n      <td>20000079</td>\n      <td>1404157147</td>\n      <td>A</td>\n      <td>False</td>\n      <td>[[-8.615538,41.140629],[-8.615421,41.140746],[...</td>\n    </tr>\n  </tbody>\n</table>\n<p>1710670 rows × 8 columns</p>\n</div>"
     },
     "execution_count": 118,
     "metadata": {},
     "output_type": "execute_result"
    }
   ],
   "source": [
    "trajectories"
   ],
   "metadata": {
    "collapsed": false
   }
  },
  {
   "cell_type": "code",
   "execution_count": 119,
   "outputs": [
    {
     "data": {
      "text/plain": "1710670"
     },
     "execution_count": 119,
     "metadata": {},
     "output_type": "execute_result"
    }
   ],
   "source": [
    "total_traj_num"
   ],
   "metadata": {
    "collapsed": false
   }
  },
  {
   "cell_type": "code",
   "execution_count": 120,
   "outputs": [
    {
     "name": "stdout",
     "output_type": "stream",
     "text": [
      "Complete: 0; Total: 1710670\n",
      "Complete: 10000; Total: 1710670\n",
      "Complete: 20000; Total: 1710670\n",
      "Complete: 30000; Total: 1710670\n",
      "Complete: 40000; Total: 1710670\n",
      "Complete: 50000; Total: 1710670\n",
      "Complete: 60000; Total: 1710670\n",
      "Complete: 70000; Total: 1710670\n",
      "Complete: 80000; Total: 1710670\n",
      "Complete: 90000; Total: 1710670\n",
      "Valid trajectory num: 66248\n"
     ]
    }
   ],
   "source": [
    "# 将 grid size 转为经纬度 size\n",
    "lat_size, lng_size = height2lat(grid_height), width2lng(grid_width)\n",
    "\n",
    "# trajectory 的长度限制\n",
    "shortest, longest = 20, 1200\n",
    "\n",
    "processed_trajectories = []\n",
    "for i, (idx, traj) in enumerate(trajectories.iterrows()):\n",
    "    if i == 100000:\n",
    "        break\n",
    "    # 检查进度\n",
    "    if i % 10000 == 0:\n",
    "        print(\"Complete: {}; Total: {}\".format(i, total_traj_num))\n",
    "    # 创建 trajectory grids list\n",
    "    grid_seq = []\n",
    "    valid = True\n",
    "    polyline = eval(traj[\"POLYLINE\"])\n",
    "    # 检查 trajectory 是否过短或过长\n",
    "    if shortest <= len(polyline) <= longest:\n",
    "        for lng, lat in polyline:\n",
    "            # 检查 trajectory 是否在 boundary 之内\n",
    "            if in_boundary(lat, lng, boundary):\n",
    "                # 将 trajectory 中的点从坐标转为 grid coordinate\n",
    "                grid_i = int((lat - boundary['min_lat']) / lat_size)\n",
    "                grid_j = int((lng - boundary['min_lng']) / lng_size)\n",
    "                grid_seq.append((grid_i, grid_j))\n",
    "            else:\n",
    "                valid = False\n",
    "                break\n",
    "        # 如果 trajectory 的所有点 都在 boundary 之内，加入到 processed_trajectories\n",
    "        if valid:\n",
    "            processed_trajectories.append(grid_seq)\n",
    "\n",
    "print(\"Valid trajectory num:\", len(processed_trajectories))"
   ],
   "metadata": {
    "collapsed": false
   }
  },
  {
   "cell_type": "code",
   "execution_count": 121,
   "outputs": [
    {
     "name": "stdout",
     "output_type": "stream",
     "text": [
      "Grid size: (51, 158)\n"
     ]
    }
   ],
   "source": [
    "lat_grid_num = int((boundary['max_lat'] - boundary['min_lat']) / lat_size) + 1\n",
    "lng_grid_num = int((boundary['max_lng'] - boundary['min_lng']) / lng_size) + 1\n",
    "\n",
    "print(\"Grid size:\", (lat_grid_num, lng_grid_num))"
   ],
   "metadata": {
    "collapsed": false
   }
  },
  {
   "cell_type": "code",
   "execution_count": 125,
   "outputs": [],
   "source": [
    "# 将 处理好的 trajectory 储存到文件中\n",
    "fout = open(\"{}/processed_{}.csv\".format(data_dir, data_name), 'w')\n",
    "for traj in processed_trajectories:\n",
    "    fout.write(\"[\")\n",
    "    # 将每个 grid coordinate 转换为 i * lng_grid_num + j 的 grid index\n",
    "    for i, j in traj[:-1]:\n",
    "        fout.write(\"%s, \" % str(i * lng_grid_num + j))\n",
    "    fout.write(\"%s]\\n\" % str(traj[-1][0] * lng_grid_num + traj[-1][1]))"
   ],
   "metadata": {
    "collapsed": false
   }
  },
  {
   "cell_type": "markdown",
   "source": [
    "# Source and Destination"
   ],
   "metadata": {
    "collapsed": false
   }
  },
  {
   "cell_type": "code",
   "execution_count": 123,
   "outputs": [],
   "source": [
    "from collections import defaultdict"
   ],
   "metadata": {
    "collapsed": false
   }
  },
  {
   "cell_type": "code",
   "execution_count": 128,
   "outputs": [],
   "source": [
    "data_dir = '../data/porto-data'\n",
    "data_name = \"porto\"\n",
    "min_sd_traj_num = 25\n",
    "test_traj_num = 5\n",
    "\n",
    "f = open(\"{}/processed_{}.csv\".format(data_dir, data_name), 'r').readlines()\n",
    "# 创建 source-destination 的 dictionary， value 为所有在这之间的 trajectory grid index\n",
    "sd_cnt = defaultdict(list)\n",
    "for eachline in f:\n",
    "    traj = eval(eachline)\n",
    "    s, d = traj[0], traj[-1]\n",
    "    sd_cnt[(s, d)].append(eachline)\n",
    "\n",
    "fout_train = open(\"{}/processed_{}_train.csv\".format(data_dir, data_name), 'w')\n",
    "fout_test = open(\"{}/processed_{}_val.csv\".format(data_dir, data_name), 'w')\n",
    "for trajs in sd_cnt.values():\n",
    "    # 大于最少数量的 source-destination 加入\n",
    "    if len(trajs) >= min_sd_traj_num:\n",
    "        # 训练集为 n-5 个，validation set 为 5 个\n",
    "        train_trajs, test_trajs = trajs[:-test_traj_num], trajs[-test_traj_num:]\n",
    "        for traj in train_trajs:\n",
    "            fout_train.write(traj)\n",
    "        for traj in test_trajs:\n",
    "            fout_test.write(traj)"
   ],
   "metadata": {
    "collapsed": false
   }
  }
 ],
 "metadata": {
  "kernelspec": {
   "display_name": "Python 3",
   "language": "python",
   "name": "python3"
  },
  "language_info": {
   "codemirror_mode": {
    "name": "ipython",
    "version": 2
   },
   "file_extension": ".py",
   "mimetype": "text/x-python",
   "name": "python",
   "nbconvert_exporter": "python",
   "pygments_lexer": "ipython2",
   "version": "2.7.6"
  }
 },
 "nbformat": 4,
 "nbformat_minor": 0
}
