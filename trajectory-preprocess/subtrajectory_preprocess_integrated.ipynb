{
 "cells": [
  {
   "cell_type": "markdown",
   "source": [
    "# Trajectory Partition"
   ],
   "metadata": {
    "collapsed": false
   }
  },
  {
   "cell_type": "code",
   "execution_count": 1,
   "outputs": [],
   "source": [
    "import math\n",
    "import pandas as pd"
   ],
   "metadata": {
    "collapsed": false
   }
  },
  {
   "cell_type": "code",
   "execution_count": null,
   "outputs": [],
   "source": [
    "def find_longer_shorter(line1, line2):\n",
    "    line1_length = segment_length(line1)\n",
    "    line2_length = segment_length(line2)\n",
    "    if line1_length > line2_length:\n",
    "        return line1, line2\n",
    "    else:\n",
    "        return line2, line1\n",
    "\n",
    "\n",
    "def segment_length(line):\n",
    "    length = ((line[0][0] - line[1][0])**2 + (line[0][1] - line[1][1])**2)**0.5\n",
    "    return length\n",
    "\n",
    "\n",
    "def get_unit_vector(line):\n",
    "    line_length = segment_length(line)\n",
    "    if line_length == 0:\n",
    "        return [0, 0]\n",
    "    unit_vector = [line[1][0], line[1][1]]\n",
    "    unit_vector[0] = (unit_vector[0] - line[0][0]) / line_length\n",
    "    unit_vector[1] = (unit_vector[1] - line[0][1]) / line_length\n",
    "    return unit_vector\n",
    "\n",
    "\n",
    "def projection_distance(point, line):\n",
    "    diff_x = point[0] - line[0][0]\n",
    "    diff_y = point[1] - line[0][1]\n",
    "    unit_vector = get_unit_vector(line)\n",
    "    projection_distance =  abs(diff_x * unit_vector[1] - diff_y * unit_vector[0])\n",
    "    return projection_distance\n",
    "\n",
    "\n",
    "def perpendicular_distance(line1, line2):\n",
    "    longer, shorter = find_longer_shorter(line1, line2)\n",
    "    distance1 = projection_distance(shorter[0], longer)\n",
    "    distance2 = projection_distance(shorter[1], longer)\n",
    "    if distance1 == 0 and distance2 == 0:\n",
    "        return 0\n",
    "    perpendicular_distance = (distance1**2 + distance2**2) / (distance1 + distance2)\n",
    "    return round(perpendicular_distance, 10)\n",
    "\n",
    "\n",
    "def angle_distance(line1, line2):\n",
    "    longer, shorter = find_longer_shorter(line1, line2)\n",
    "    unit_vector_shorter = get_unit_vector(shorter)\n",
    "    unit_vector_longer = get_unit_vector(longer)\n",
    "    sin_coefficient = unit_vector_shorter[0] * unit_vector_longer[1] - unit_vector_shorter[1] * unit_vector_longer[0]\n",
    "    angle_distance = sin_coefficient * segment_length(shorter)\n",
    "    return abs(angle_distance)\n",
    "\n",
    "\n",
    "def cost(trajectory, start_index, current_index, partition):\n",
    "    if partition:\n",
    "        segment = [trajectory[start_index], trajectory[current_index]]\n",
    "        seg_length = segment_length(segment)\n",
    "        if seg_length != 0:\n",
    "            LH = math.log2(segment_length(segment))\n",
    "        else:\n",
    "            LH = 0\n",
    "        LDH_p = 0\n",
    "        LDH_a = 0\n",
    "        i = 0\n",
    "        while start_index + i < current_index:\n",
    "            index1 = start_index + i\n",
    "            index2 = start_index + i + 1\n",
    "            line = [trajectory[index1], trajectory[index2]]\n",
    "            distance_p = perpendicular_distance(line, segment)\n",
    "            distance_a = angle_distance(line, segment)\n",
    "            LDH_p += distance_p\n",
    "            LDH_a += distance_a\n",
    "            i += 1\n",
    "        if LDH_p == 0 and LDH_a == 0:\n",
    "            LDH = 0\n",
    "        elif LDH_p == 0 and LDH_a != 0:\n",
    "            LDH = math.log2(LDH_a)\n",
    "        elif LDH_p != 0 and LDH_a == 0:\n",
    "            LDH = math.log2(LDH_p)\n",
    "        else:\n",
    "            LDH = math.log2(LDH_p) + math.log2(LDH_a)\n",
    "        cost = LH + LDH\n",
    "    else:\n",
    "        cost = 0\n",
    "        i = 0\n",
    "        while start_index + i < current_index:\n",
    "            index1 = start_index + i\n",
    "            index2 = start_index + i + 1\n",
    "            line = [trajectory[index1], trajectory[index2]]\n",
    "            line_length = segment_length(line)\n",
    "            if line_length != 0:\n",
    "                cost += math.log2(line_length)\n",
    "            i += 1\n",
    "    return cost\n",
    "\n",
    "def trajectory_partition(trajectory):\n",
    "    cp = []\n",
    "    cp_index = []\n",
    "    cp.append(trajectory[0])\n",
    "    cp_index.append(0)\n",
    "    start_index = 0\n",
    "    length = 1\n",
    "    c = 0\n",
    "    while start_index + length < len(trajectory):\n",
    "        current_index = start_index + length\n",
    "        cost_par = cost(trajectory, start_index, current_index, True)\n",
    "        cost_non = cost(trajectory, start_index, current_index, False)\n",
    "        if cost_par > cost_non:\n",
    "            cp.append(trajectory[current_index-1])\n",
    "            cp_index.append(current_index-1)\n",
    "            start_index = current_index-1\n",
    "            length = 1\n",
    "        else:\n",
    "            length += 1\n",
    "        c += 1\n",
    "    cp.append(trajectory[-1])\n",
    "    cp_index.append(len(trajectory)-1)\n",
    "    return cp, cp_index"
   ],
   "metadata": {
    "collapsed": false
   }
  },
  {
   "cell_type": "code",
   "execution_count": null,
   "outputs": [],
   "source": [
    "def preprocess():\n",
    "    data_dir = '../data/porto-data'\n",
    "    data_name = \"small-porto\"\n",
    "    trajectories = pd.read_csv(\"{}/{}.csv\".format(data_dir, data_name), header=0, index_col=\"TRIP_ID\")\n",
    "    total_traj_num = len(trajectories)\n",
    "\n",
    "    shortest, longest = 20, 1200\n",
    "    processed_trajectories = []\n",
    "    for i, (idx, traj) in enumerate(trajectories.iterrows()):\n",
    "        if i % 10000 == 0:\n",
    "            print(\"Complete: {}; Total: {}\".format(i, total_traj_num))\n",
    "        polyline = eval(traj[\"POLYLINE\"])\n",
    "        coordinates = []\n",
    "        if shortest <= len(polyline) <= longest:\n",
    "            for lng, lat in polyline:\n",
    "                coordinates.append([lng, lat])\n",
    "            processed_trajectories.append(coordinates)\n",
    "\n",
    "    fout = open(\"{}/processed_{}.csv\".format(data_dir, data_name), 'w')\n",
    "    fout.write(\"POLYLINE\\n\")\n",
    "    for traj in processed_trajectories:\n",
    "        fout.write('\"' + str(traj) + '\"' + \"\\n\")\n",
    "    fout.close()\n",
    "\n",
    "    print(\"finished\")"
   ],
   "metadata": {
    "collapsed": false
   }
  },
  {
   "cell_type": "code",
   "execution_count": null,
   "outputs": [],
   "source": [
    "def partition():\n",
    "    trajectories = pd.read_csv(\"../data/porto-data/processed_small-porto.csv\")\n",
    "    all_cp_index = []\n",
    "    for i, (idx, traj) in enumerate(trajectories.iterrows()):\n",
    "        if i % 10000 == 0:\n",
    "            print(\"progress:\", i, \"/\", len(trajectories))\n",
    "        traj_coord = eval(traj[\"POLYLINE\"])\n",
    "        _, cp_index = trajectory_partition(traj_coord)\n",
    "        all_cp_index.append(cp_index)\n",
    "        fout = open(\"../data/porto-data/processed_small_porto_with_cp.csv\", 'w')\n",
    "\n",
    "    fout.write(\"POLYLINE, CP_INDEX\\n\")\n",
    "    for i, (idx, traj) in enumerate(trajectories.iterrows()):\n",
    "        fout.write('\"' + str(traj[\"POLYLINE\"]) + '\",')\n",
    "        fout.write('\"' + str(traj[\"CP_INDEX\"]) + '\"\\n')\n",
    "    fout.close()\n",
    "\n",
    "    print(\"finished\")"
   ],
   "metadata": {
    "collapsed": false
   }
  },
  {
   "cell_type": "markdown",
   "source": [
    "# Data Preprocess"
   ],
   "metadata": {
    "collapsed": false
   }
  },
  {
   "cell_type": "code",
   "execution_count": 37,
   "outputs": [],
   "source": [
    "def height2lat(height):\n",
    "    return height / 110.574\n",
    "\n",
    "\n",
    "def width2lng(width):\n",
    "    return width / 111.320 / 0.99974\n",
    "\n",
    "\n",
    "def in_boundary(lat, lng, b):\n",
    "    return b['min_lng'] < lng < b['max_lng'] and b['min_lat'] < lat < b['max_lat']\n",
    "\n",
    "\n",
    "def data_preprocess():\n",
    "    grid_height, grid_width = 0.1, 0.1\n",
    "    boundary = {'min_lat': 41.140092, 'max_lat': 41.185969, 'min_lng': -8.690261, 'max_lng': -8.549155}\n",
    "\n",
    "    trajectories = pd.read_csv(\"../data/porto-data/processed_small_porto_with_cp.csv\")\n",
    "\n",
    "    lat_size, lng_size = height2lat(grid_height), width2lng(grid_width)\n",
    "\n",
    "    lat_grid_num = int((boundary['max_lat'] - boundary['min_lat']) / lat_size) + 1\n",
    "    lng_grid_num = int((boundary['max_lng'] - boundary['min_lng']) / lng_size) + 1\n",
    "\n",
    "    trajectories = pd.read_csv(\"../data/porto-data/processed_small_porto_with_cp.csv\")\n",
    "    processed_trajectories = []\n",
    "    processed_subtrajectories = []\n",
    "\n",
    "    total_traj_num = len(trajectories)\n",
    "    for i, (idx, traj) in enumerate(trajectories.iterrows()):\n",
    "\n",
    "        if i % 10000 == 0:\n",
    "            print(\"Complete: {}; Total: {}\".format(i, total_traj_num))\n",
    "\n",
    "        grid_seq = []\n",
    "        valid = True\n",
    "        polyline = eval(traj[\"POLYLINE\"])\n",
    "        for lng, lat in polyline:\n",
    "            if in_boundary(lat, lng, boundary):\n",
    "                grid_i = int((lat - boundary['min_lat']) / lat_size)\n",
    "                grid_j = int((lng - boundary['min_lng']) / lng_size)\n",
    "                grid_seq.append((grid_i, grid_j))\n",
    "            else:\n",
    "                valid = False\n",
    "                break\n",
    "        grid_seq_subtraj = []\n",
    "        if valid:\n",
    "            processed_trajectories.append(grid_seq)\n",
    "            cp_index = eval(traj[\" CP_INDEX\"])\n",
    "            for index in range(len(cp_index)-1):\n",
    "                cp_start_index = cp_index[index]\n",
    "                cp_end_index = cp_index[index+1]\n",
    "                subtraj_gird = grid_seq[cp_start_index: cp_end_index]\n",
    "                processed_subtrajectories.append(subtraj_gird)\n",
    "    print(\"Grid size:\", (lat_grid_num, lng_grid_num))\n",
    "    print(\"Total valid trajectory number:\", len(processed_trajectories))\n",
    "    print(\"Total subtrajectory number:\", len(processed_subtrajectories))\n",
    "\n",
    "    fout = open(\"../data/porto-data/processed_small_porto_subtrajectory.csv\", 'w')\n",
    "    for traj in processed_subtrajectories:\n",
    "        fout.write(\"[\")\n",
    "        for i, j in traj[:-1]:\n",
    "            fout.write(\"%s, \" % str(i * lng_grid_num + j))\n",
    "        fout.write(\"%s]\\n\" % str(traj[-1][0] * lng_grid_num + traj[-1][1]))\n",
    "    fout.close()\n",
    "\n",
    "    print(\"finished\")"
   ],
   "metadata": {
    "collapsed": false
   }
  },
  {
   "cell_type": "code",
   "execution_count": null,
   "outputs": [],
   "source": [
    "preprocess()"
   ],
   "metadata": {
    "collapsed": false
   }
  },
  {
   "cell_type": "code",
   "execution_count": null,
   "outputs": [],
   "source": [
    "partition()"
   ],
   "metadata": {
    "collapsed": false
   }
  },
  {
   "cell_type": "code",
   "execution_count": 38,
   "outputs": [
    {
     "name": "stdout",
     "output_type": "stream",
     "text": [
      "Complete: 0; Total: 89011\n",
      "Complete: 10000; Total: 89011\n",
      "Complete: 20000; Total: 89011\n",
      "Complete: 30000; Total: 89011\n",
      "Complete: 40000; Total: 89011\n",
      "Complete: 50000; Total: 89011\n",
      "Complete: 60000; Total: 89011\n",
      "Complete: 70000; Total: 89011\n",
      "Complete: 80000; Total: 89011\n",
      "Grid size: (51, 158)\n",
      "Total valid trajectory number: 66247\n",
      "Total subtrajectory number: 1257246\n"
     ]
    }
   ],
   "source": [
    "data_preprocess()"
   ],
   "metadata": {
    "collapsed": false
   }
  }
 ],
 "metadata": {
  "kernelspec": {
   "display_name": "Python 3",
   "language": "python",
   "name": "python3"
  },
  "language_info": {
   "codemirror_mode": {
    "name": "ipython",
    "version": 2
   },
   "file_extension": ".py",
   "mimetype": "text/x-python",
   "name": "python",
   "nbconvert_exporter": "python",
   "pygments_lexer": "ipython2",
   "version": "2.7.6"
  }
 },
 "nbformat": 4,
 "nbformat_minor": 0
}
