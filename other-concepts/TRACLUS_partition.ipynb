{
 "cells": [
  {
   "cell_type": "markdown",
   "source": [
    "# TRACLUS"
   ],
   "metadata": {
    "collapsed": false
   }
  },
  {
   "cell_type": "code",
   "execution_count": 14,
   "metadata": {
    "collapsed": true
   },
   "outputs": [],
   "source": [
    "import math\n",
    "import matplotlib.pyplot as plt\n",
    "import mplleaflet\n",
    "import numpy as np\n",
    "import pandas as pd"
   ]
  },
  {
   "cell_type": "code",
   "execution_count": 15,
   "outputs": [],
   "source": [
    "data_dir = '../data/porto-data'\n",
    "data_name = \"small-porto\""
   ],
   "metadata": {
    "collapsed": false
   }
  },
  {
   "cell_type": "code",
   "execution_count": 16,
   "outputs": [],
   "source": [
    "trajectories = pd.read_csv(\"{}/{}.csv\".format(data_dir, data_name), header=0, index_col=\"TRIP_ID\")\n",
    "total_traj_num = len(trajectories)"
   ],
   "metadata": {
    "collapsed": false
   }
  },
  {
   "cell_type": "code",
   "execution_count": 17,
   "outputs": [
    {
     "data": {
      "text/plain": "100000"
     },
     "execution_count": 17,
     "metadata": {},
     "output_type": "execute_result"
    }
   ],
   "source": [
    "total_traj_num"
   ],
   "metadata": {
    "collapsed": false
   }
  },
  {
   "cell_type": "code",
   "execution_count": 18,
   "outputs": [
    {
     "data": {
      "text/plain": "                    CALL_TYPE  ORIGIN_CALL  ORIGIN_STAND   TAXI_ID  \\\nTRIP_ID                                                              \n1372636858620000589         C          NaN           NaN  20000589   \n1372637303620000596         B          NaN           7.0  20000596   \n1372636951620000320         C          NaN           NaN  20000320   \n1372636854620000520         C          NaN           NaN  20000520   \n1372637091620000337         C          NaN           NaN  20000337   \n...                       ...          ...           ...       ...   \n1374433338620000398         B          NaN          36.0  20000398   \n1374433379620000506         B          NaN          53.0  20000506   \n1374433756620000435         B          NaN           9.0  20000435   \n1374434789620000074         A      60678.0           NaN  20000074   \n1374431193620000173         B          NaN          53.0  20000173   \n\n                      TIMESTAMP DAY_TYPE  MISSING_DATA  \\\nTRIP_ID                                                  \n1372636858620000589  1372636858        A         False   \n1372637303620000596  1372637303        A         False   \n1372636951620000320  1372636951        A         False   \n1372636854620000520  1372636854        A         False   \n1372637091620000337  1372637091        A         False   \n...                         ...      ...           ...   \n1374433338620000398  1374433338        A         False   \n1374433379620000506  1374433379        A         False   \n1374433756620000435  1374433756        A         False   \n1374434789620000074  1374434789        A         False   \n1374431193620000173  1374431193        A         False   \n\n                                                              POLYLINE  \nTRIP_ID                                                                 \n1372636858620000589  [[-8.618643,41.141412],[-8.618499,41.141376],[...  \n1372637303620000596  [[-8.639847,41.159826],[-8.640351,41.159871],[...  \n1372636951620000320  [[-8.612964,41.140359],[-8.613378,41.14035],[-...  \n1372636854620000520  [[-8.574678,41.151951],[-8.574705,41.151942],[...  \n1372637091620000337  [[-8.645994,41.18049],[-8.645949,41.180517],[-...  \n...                                                                ...  \n1374433338620000398  [[-8.649297,41.154309],[-8.650044,41.154228],[...  \n1374433379620000506  [[-8.6139,41.141133],[-8.613891,41.141115],[-8...  \n1374433756620000435  [[-8.606475,41.144508],[-8.60652,41.144517],[-...  \n1374434789620000074  [[-8.604945,41.149692],[-8.605368,41.149773],[...  \n1374431193620000173  [[-8.613999,41.141376],[-8.61399,41.141367],[-...  \n\n[100000 rows x 8 columns]",
      "text/html": "<div>\n<style scoped>\n    .dataframe tbody tr th:only-of-type {\n        vertical-align: middle;\n    }\n\n    .dataframe tbody tr th {\n        vertical-align: top;\n    }\n\n    .dataframe thead th {\n        text-align: right;\n    }\n</style>\n<table border=\"1\" class=\"dataframe\">\n  <thead>\n    <tr style=\"text-align: right;\">\n      <th></th>\n      <th>CALL_TYPE</th>\n      <th>ORIGIN_CALL</th>\n      <th>ORIGIN_STAND</th>\n      <th>TAXI_ID</th>\n      <th>TIMESTAMP</th>\n      <th>DAY_TYPE</th>\n      <th>MISSING_DATA</th>\n      <th>POLYLINE</th>\n    </tr>\n    <tr>\n      <th>TRIP_ID</th>\n      <th></th>\n      <th></th>\n      <th></th>\n      <th></th>\n      <th></th>\n      <th></th>\n      <th></th>\n      <th></th>\n    </tr>\n  </thead>\n  <tbody>\n    <tr>\n      <th>1372636858620000589</th>\n      <td>C</td>\n      <td>NaN</td>\n      <td>NaN</td>\n      <td>20000589</td>\n      <td>1372636858</td>\n      <td>A</td>\n      <td>False</td>\n      <td>[[-8.618643,41.141412],[-8.618499,41.141376],[...</td>\n    </tr>\n    <tr>\n      <th>1372637303620000596</th>\n      <td>B</td>\n      <td>NaN</td>\n      <td>7.0</td>\n      <td>20000596</td>\n      <td>1372637303</td>\n      <td>A</td>\n      <td>False</td>\n      <td>[[-8.639847,41.159826],[-8.640351,41.159871],[...</td>\n    </tr>\n    <tr>\n      <th>1372636951620000320</th>\n      <td>C</td>\n      <td>NaN</td>\n      <td>NaN</td>\n      <td>20000320</td>\n      <td>1372636951</td>\n      <td>A</td>\n      <td>False</td>\n      <td>[[-8.612964,41.140359],[-8.613378,41.14035],[-...</td>\n    </tr>\n    <tr>\n      <th>1372636854620000520</th>\n      <td>C</td>\n      <td>NaN</td>\n      <td>NaN</td>\n      <td>20000520</td>\n      <td>1372636854</td>\n      <td>A</td>\n      <td>False</td>\n      <td>[[-8.574678,41.151951],[-8.574705,41.151942],[...</td>\n    </tr>\n    <tr>\n      <th>1372637091620000337</th>\n      <td>C</td>\n      <td>NaN</td>\n      <td>NaN</td>\n      <td>20000337</td>\n      <td>1372637091</td>\n      <td>A</td>\n      <td>False</td>\n      <td>[[-8.645994,41.18049],[-8.645949,41.180517],[-...</td>\n    </tr>\n    <tr>\n      <th>...</th>\n      <td>...</td>\n      <td>...</td>\n      <td>...</td>\n      <td>...</td>\n      <td>...</td>\n      <td>...</td>\n      <td>...</td>\n      <td>...</td>\n    </tr>\n    <tr>\n      <th>1374433338620000398</th>\n      <td>B</td>\n      <td>NaN</td>\n      <td>36.0</td>\n      <td>20000398</td>\n      <td>1374433338</td>\n      <td>A</td>\n      <td>False</td>\n      <td>[[-8.649297,41.154309],[-8.650044,41.154228],[...</td>\n    </tr>\n    <tr>\n      <th>1374433379620000506</th>\n      <td>B</td>\n      <td>NaN</td>\n      <td>53.0</td>\n      <td>20000506</td>\n      <td>1374433379</td>\n      <td>A</td>\n      <td>False</td>\n      <td>[[-8.6139,41.141133],[-8.613891,41.141115],[-8...</td>\n    </tr>\n    <tr>\n      <th>1374433756620000435</th>\n      <td>B</td>\n      <td>NaN</td>\n      <td>9.0</td>\n      <td>20000435</td>\n      <td>1374433756</td>\n      <td>A</td>\n      <td>False</td>\n      <td>[[-8.606475,41.144508],[-8.60652,41.144517],[-...</td>\n    </tr>\n    <tr>\n      <th>1374434789620000074</th>\n      <td>A</td>\n      <td>60678.0</td>\n      <td>NaN</td>\n      <td>20000074</td>\n      <td>1374434789</td>\n      <td>A</td>\n      <td>False</td>\n      <td>[[-8.604945,41.149692],[-8.605368,41.149773],[...</td>\n    </tr>\n    <tr>\n      <th>1374431193620000173</th>\n      <td>B</td>\n      <td>NaN</td>\n      <td>53.0</td>\n      <td>20000173</td>\n      <td>1374431193</td>\n      <td>A</td>\n      <td>False</td>\n      <td>[[-8.613999,41.141376],[-8.61399,41.141367],[-...</td>\n    </tr>\n  </tbody>\n</table>\n<p>100000 rows × 8 columns</p>\n</div>"
     },
     "execution_count": 18,
     "metadata": {},
     "output_type": "execute_result"
    }
   ],
   "source": [
    "trajectories"
   ],
   "metadata": {
    "collapsed": false
   }
  },
  {
   "cell_type": "code",
   "execution_count": 19,
   "outputs": [
    {
     "name": "stdout",
     "output_type": "stream",
     "text": [
      "Complete: 0; Total: 100000\n",
      "Complete: 10000; Total: 100000\n",
      "Complete: 20000; Total: 100000\n",
      "Complete: 30000; Total: 100000\n",
      "Complete: 40000; Total: 100000\n",
      "Complete: 50000; Total: 100000\n",
      "Complete: 60000; Total: 100000\n",
      "Complete: 70000; Total: 100000\n",
      "Complete: 80000; Total: 100000\n",
      "Complete: 90000; Total: 100000\n",
      "Valid trajectory num: 89011\n"
     ]
    }
   ],
   "source": [
    "shortest, longest = 20, 1200\n",
    "\n",
    "processed_trajectories = []\n",
    "for i, (idx, traj) in enumerate(trajectories.iterrows()):\n",
    "    if i % 10000 == 0:\n",
    "        print(\"Complete: {}; Total: {}\".format(i, total_traj_num))\n",
    "    polyline = eval(traj[\"POLYLINE\"])\n",
    "    coordinates = []\n",
    "    if shortest <= len(polyline) <= longest:\n",
    "        for lng, lat in polyline:\n",
    "            coordinates.append([lng, lat])\n",
    "        processed_trajectories.append(coordinates)\n",
    "\n",
    "print(\"Valid trajectory num:\", len(processed_trajectories))"
   ],
   "metadata": {
    "collapsed": false
   }
  },
  {
   "cell_type": "code",
   "execution_count": 20,
   "outputs": [],
   "source": [
    "fout = open(\"{}/processed_{}.csv\".format(data_dir, data_name), 'w')\n",
    "fout.write(\"POLYLINE\\n\")\n",
    "for traj in processed_trajectories:\n",
    "    fout.write('\"' + str(traj) + '\"' + \"\\n\")\n",
    "fout.close()"
   ],
   "metadata": {
    "collapsed": false
   }
  },
  {
   "cell_type": "markdown",
   "source": [
    "# Show trajectory"
   ],
   "metadata": {
    "collapsed": false
   }
  },
  {
   "cell_type": "code",
   "execution_count": 21,
   "outputs": [],
   "source": [
    "for i, (idx, traj) in enumerate(trajectories.iterrows()):\n",
    "    lng = []\n",
    "    lat = []\n",
    "    if i == 0:\n",
    "        for coordinate in eval(traj[\"POLYLINE\"]):\n",
    "            lng.append(coordinate[0])\n",
    "            lat.append(coordinate[1])\n",
    "            plt.plot(lng, lat, linewidth=5, color=\"blue\")\n",
    "            # plt.scatter(lng, lat, color=\"blue\")\n",
    "        break\n",
    "mplleaflet.show()"
   ],
   "metadata": {
    "collapsed": false
   }
  },
  {
   "cell_type": "code",
   "execution_count": 22,
   "outputs": [
    {
     "data": {
      "text/plain": "CALL_TYPE                                                       C\nORIGIN_CALL                                                   NaN\nORIGIN_STAND                                                  NaN\nTAXI_ID                                                  20000589\nTIMESTAMP                                              1372636858\nDAY_TYPE                                                        A\nMISSING_DATA                                                False\nPOLYLINE        [[-8.618643,41.141412],[-8.618499,41.141376],[...\nName: 1372636858620000589, dtype: object"
     },
     "execution_count": 22,
     "metadata": {},
     "output_type": "execute_result"
    }
   ],
   "source": [
    "test_traj = trajectories.iloc[0]\n",
    "test_traj"
   ],
   "metadata": {
    "collapsed": false
   }
  },
  {
   "cell_type": "markdown",
   "source": [
    "# Partition"
   ],
   "metadata": {
    "collapsed": false
   }
  },
  {
   "cell_type": "code",
   "execution_count": 23,
   "outputs": [],
   "source": [
    "def find_longer_shorter(line1, line2):\n",
    "    line1_length = segment_length(line1)\n",
    "    line2_length = segment_length(line2)\n",
    "    if line1_length > line2_length:\n",
    "        return line1, line2\n",
    "    else:\n",
    "        return line2, line1\n",
    "\n",
    "\n",
    "def segment_length(line):\n",
    "    length = ((line[0][0] - line[1][0])**2 + (line[0][1] - line[1][1])**2)**0.5\n",
    "    return length\n",
    "\n",
    "\n",
    "def get_unit_vector(line):\n",
    "    line_length = segment_length(line)\n",
    "    if line_length == 0:\n",
    "        return [0, 0]\n",
    "    unit_vector = [line[1][0], line[1][1]]\n",
    "    unit_vector[0] = (unit_vector[0] - line[0][0]) / line_length\n",
    "    unit_vector[1] = (unit_vector[1] - line[0][1]) / line_length\n",
    "    return unit_vector\n",
    "\n",
    "\n",
    "def projection_distance(point, line):\n",
    "    diff_x = point[0] - line[0][0]\n",
    "    diff_y = point[1] - line[0][1]\n",
    "    unit_vector = get_unit_vector(line)\n",
    "    projection_distance =  abs(diff_x * unit_vector[1] - diff_y * unit_vector[0])\n",
    "    return projection_distance\n",
    "\n",
    "\n",
    "def perpendicular_distance(line1, line2):\n",
    "    longer, shorter = find_longer_shorter(line1, line2)\n",
    "    distance1 = projection_distance(shorter[0], longer)\n",
    "    distance2 = projection_distance(shorter[1], longer)\n",
    "    if distance1 == 0 and distance2 == 0:\n",
    "        return 0\n",
    "    perpendicular_distance = (distance1**2 + distance2**2) / (distance1 + distance2)\n",
    "    return round(perpendicular_distance, 10)\n",
    "\n",
    "\n",
    "def angle_distance(line1, line2):\n",
    "    longer, shorter = find_longer_shorter(line1, line2)\n",
    "    unit_vector_shorter = get_unit_vector(shorter)\n",
    "    unit_vector_longer = get_unit_vector(longer)\n",
    "    sin_coefficient = unit_vector_shorter[0] * unit_vector_longer[1] - unit_vector_shorter[1] * unit_vector_longer[0]\n",
    "    angle_distance = sin_coefficient * segment_length(shorter)\n",
    "    return abs(angle_distance)\n",
    "\n",
    "\n",
    "def cost(trajectory, start_index, current_index, partition):\n",
    "    if partition:\n",
    "        segment = [trajectory[start_index], trajectory[current_index]]\n",
    "        seg_length = segment_length(segment)\n",
    "        if seg_length != 0:\n",
    "            LH = math.log2(segment_length(segment))\n",
    "        else:\n",
    "            LH = 0\n",
    "        LDH_p = 0\n",
    "        LDH_a = 0\n",
    "        i = 0\n",
    "        while start_index + i < current_index:\n",
    "            index1 = start_index + i\n",
    "            index2 = start_index + i + 1\n",
    "            line = [trajectory[index1], trajectory[index2]]\n",
    "            distance_p = perpendicular_distance(line, segment)\n",
    "            distance_a = angle_distance(line, segment)\n",
    "            LDH_p += distance_p\n",
    "            LDH_a += distance_a\n",
    "            i += 1\n",
    "        if LDH_p == 0 and LDH_a == 0:\n",
    "            LDH = 0\n",
    "        elif LDH_p == 0 and LDH_a != 0:\n",
    "            LDH = math.log2(LDH_a)\n",
    "        elif LDH_p != 0 and LDH_a == 0:\n",
    "            LDH = math.log2(LDH_p)\n",
    "        else:\n",
    "            LDH = math.log2(LDH_p) + math.log2(LDH_a)\n",
    "        cost = LH + LDH\n",
    "    else:\n",
    "        cost = 0\n",
    "        i = 0\n",
    "        while start_index + i < current_index:\n",
    "            index1 = start_index + i\n",
    "            index2 = start_index + i + 1\n",
    "            line = [trajectory[index1], trajectory[index2]]\n",
    "            line_length = segment_length(line)\n",
    "            if line_length != 0:\n",
    "                cost += math.log2(line_length)\n",
    "            i += 1\n",
    "    return cost\n",
    "\n",
    "def trajectory_partition(trajectory):\n",
    "    cp = []\n",
    "    cp_index = []\n",
    "    cp.append(trajectory[0])\n",
    "    cp_index.append(0)\n",
    "    start_index = 0\n",
    "    length = 1\n",
    "    c = 0\n",
    "    while start_index + length < len(trajectory):\n",
    "        current_index = start_index + length\n",
    "        cost_par = cost(trajectory, start_index, current_index, True)\n",
    "        cost_non = cost(trajectory, start_index, current_index, False)\n",
    "        if cost_par > cost_non:\n",
    "            cp.append(trajectory[current_index-1])\n",
    "            cp_index.append(current_index-1)\n",
    "            start_index = current_index-1\n",
    "            length = 1\n",
    "        else:\n",
    "            length += 1\n",
    "        c += 1\n",
    "    cp.append(trajectory[-1])\n",
    "    cp_index.append(len(trajectory)-1)\n",
    "    return cp, cp_index"
   ],
   "metadata": {
    "collapsed": false
   }
  },
  {
   "cell_type": "code",
   "execution_count": 24,
   "outputs": [],
   "source": [
    "test_traj_coord = eval(test_traj[\"POLYLINE\"])\n",
    "cp, cp_index = trajectory_partition(test_traj_coord)"
   ],
   "metadata": {
    "collapsed": false
   }
  },
  {
   "cell_type": "code",
   "execution_count": 25,
   "outputs": [],
   "source": [
    "# display partition result\n",
    "lng = []\n",
    "lat = []\n",
    "for coordinate in cp:\n",
    "    lng.append(coordinate[0])\n",
    "    lat.append(coordinate[1])\n",
    "    plt.plot(lng, lat, linewidth=5, color=\"blue\")\n",
    "mplleaflet.show()"
   ],
   "metadata": {
    "collapsed": false
   }
  },
  {
   "cell_type": "code",
   "execution_count": 26,
   "outputs": [
    {
     "data": {
      "text/plain": "[0, 3, 6, 8, 11, 13, 15, 17, 19, 20, 22]"
     },
     "execution_count": 26,
     "metadata": {},
     "output_type": "execute_result"
    }
   ],
   "source": [
    "cp_index"
   ],
   "metadata": {
    "collapsed": false
   }
  },
  {
   "cell_type": "markdown",
   "source": [
    "# All trajectories"
   ],
   "metadata": {
    "collapsed": false
   }
  },
  {
   "cell_type": "code",
   "execution_count": 27,
   "outputs": [
    {
     "data": {
      "text/plain": "                                                POLYLINE\n0      [[-8.618643, 41.141412], [-8.618499, 41.141376...\n1      [[-8.612964, 41.140359], [-8.613378, 41.14035]...\n2      [[-8.574678, 41.151951], [-8.574705, 41.151942...\n3      [[-8.645994, 41.18049], [-8.645949, 41.180517]...\n4      [[-8.615502, 41.140674], [-8.614854, 41.140926...\n...                                                  ...\n89006  [[-8.649297, 41.154309], [-8.650044, 41.154228...\n89007  [[-8.6139, 41.141133], [-8.613891, 41.141115],...\n89008  [[-8.606475, 41.144508], [-8.60652, 41.144517]...\n89009  [[-8.604945, 41.149692], [-8.605368, 41.149773...\n89010  [[-8.613999, 41.141376], [-8.61399, 41.141367]...\n\n[89011 rows x 1 columns]",
      "text/html": "<div>\n<style scoped>\n    .dataframe tbody tr th:only-of-type {\n        vertical-align: middle;\n    }\n\n    .dataframe tbody tr th {\n        vertical-align: top;\n    }\n\n    .dataframe thead th {\n        text-align: right;\n    }\n</style>\n<table border=\"1\" class=\"dataframe\">\n  <thead>\n    <tr style=\"text-align: right;\">\n      <th></th>\n      <th>POLYLINE</th>\n    </tr>\n  </thead>\n  <tbody>\n    <tr>\n      <th>0</th>\n      <td>[[-8.618643, 41.141412], [-8.618499, 41.141376...</td>\n    </tr>\n    <tr>\n      <th>1</th>\n      <td>[[-8.612964, 41.140359], [-8.613378, 41.14035]...</td>\n    </tr>\n    <tr>\n      <th>2</th>\n      <td>[[-8.574678, 41.151951], [-8.574705, 41.151942...</td>\n    </tr>\n    <tr>\n      <th>3</th>\n      <td>[[-8.645994, 41.18049], [-8.645949, 41.180517]...</td>\n    </tr>\n    <tr>\n      <th>4</th>\n      <td>[[-8.615502, 41.140674], [-8.614854, 41.140926...</td>\n    </tr>\n    <tr>\n      <th>...</th>\n      <td>...</td>\n    </tr>\n    <tr>\n      <th>89006</th>\n      <td>[[-8.649297, 41.154309], [-8.650044, 41.154228...</td>\n    </tr>\n    <tr>\n      <th>89007</th>\n      <td>[[-8.6139, 41.141133], [-8.613891, 41.141115],...</td>\n    </tr>\n    <tr>\n      <th>89008</th>\n      <td>[[-8.606475, 41.144508], [-8.60652, 41.144517]...</td>\n    </tr>\n    <tr>\n      <th>89009</th>\n      <td>[[-8.604945, 41.149692], [-8.605368, 41.149773...</td>\n    </tr>\n    <tr>\n      <th>89010</th>\n      <td>[[-8.613999, 41.141376], [-8.61399, 41.141367]...</td>\n    </tr>\n  </tbody>\n</table>\n<p>89011 rows × 1 columns</p>\n</div>"
     },
     "execution_count": 27,
     "metadata": {},
     "output_type": "execute_result"
    }
   ],
   "source": [
    "trajectories = pd.read_csv(\"../data/porto-data/processed_small-porto.csv\")\n",
    "trajectories"
   ],
   "metadata": {
    "collapsed": false
   }
  },
  {
   "cell_type": "code",
   "execution_count": 28,
   "outputs": [
    {
     "name": "stdout",
     "output_type": "stream",
     "text": [
      "progress: 0 / 89011\n",
      "progress: 10000 / 89011\n",
      "progress: 20000 / 89011\n",
      "progress: 30000 / 89011\n",
      "progress: 40000 / 89011\n",
      "progress: 50000 / 89011\n",
      "progress: 60000 / 89011\n",
      "progress: 70000 / 89011\n",
      "progress: 80000 / 89011\n",
      "finished\n"
     ]
    }
   ],
   "source": [
    "all_cp_index = []\n",
    "for i, (idx, traj) in enumerate(trajectories.iterrows()):\n",
    "    if i % 10000 == 0:\n",
    "        print(\"progress:\", i, \"/\", len(trajectories))\n",
    "    traj_coord = eval(traj[\"POLYLINE\"])\n",
    "    _, cp_index = trajectory_partition(traj_coord)\n",
    "    all_cp_index.append(cp_index)\n",
    "print(\"finished\")"
   ],
   "metadata": {
    "collapsed": false
   }
  },
  {
   "cell_type": "code",
   "execution_count": 29,
   "outputs": [
    {
     "data": {
      "text/plain": "                                                POLYLINE  \\\n0      [[-8.618643, 41.141412], [-8.618499, 41.141376...   \n1      [[-8.612964, 41.140359], [-8.613378, 41.14035]...   \n2      [[-8.574678, 41.151951], [-8.574705, 41.151942...   \n3      [[-8.645994, 41.18049], [-8.645949, 41.180517]...   \n4      [[-8.615502, 41.140674], [-8.614854, 41.140926...   \n...                                                  ...   \n89006  [[-8.649297, 41.154309], [-8.650044, 41.154228...   \n89007  [[-8.6139, 41.141133], [-8.613891, 41.141115],...   \n89008  [[-8.606475, 41.144508], [-8.60652, 41.144517]...   \n89009  [[-8.604945, 41.149692], [-8.605368, 41.149773...   \n89010  [[-8.613999, 41.141376], [-8.61399, 41.141367]...   \n\n                                                CP_INDEX  \n0               [0, 3, 6, 8, 11, 13, 15, 17, 19, 20, 22]  \n1      [0, 3, 6, 9, 11, 13, 16, 18, 21, 24, 27, 29, 3...  \n2      [0, 3, 6, 8, 10, 12, 14, 16, 18, 21, 23, 26, 2...  \n3      [0, 2, 4, 6, 8, 10, 12, 15, 17, 19, 21, 24, 26...  \n4               [0, 2, 5, 8, 11, 14, 16, 18, 20, 22, 25]  \n...                                                  ...  \n89006  [0, 2, 5, 8, 11, 14, 16, 19, 21, 23, 26, 28, 3...  \n89007  [0, 3, 5, 8, 11, 13, 15, 17, 20, 23, 26, 29, 3...  \n89008  [0, 3, 5, 7, 9, 11, 13, 16, 19, 22, 24, 26, 29...  \n89009  [0, 2, 4, 6, 8, 10, 13, 15, 18, 22, 24, 26, 28...  \n89010  [0, 4, 7, 10, 12, 15, 18, 21, 24, 26, 29, 31, ...  \n\n[89011 rows x 2 columns]",
      "text/html": "<div>\n<style scoped>\n    .dataframe tbody tr th:only-of-type {\n        vertical-align: middle;\n    }\n\n    .dataframe tbody tr th {\n        vertical-align: top;\n    }\n\n    .dataframe thead th {\n        text-align: right;\n    }\n</style>\n<table border=\"1\" class=\"dataframe\">\n  <thead>\n    <tr style=\"text-align: right;\">\n      <th></th>\n      <th>POLYLINE</th>\n      <th>CP_INDEX</th>\n    </tr>\n  </thead>\n  <tbody>\n    <tr>\n      <th>0</th>\n      <td>[[-8.618643, 41.141412], [-8.618499, 41.141376...</td>\n      <td>[0, 3, 6, 8, 11, 13, 15, 17, 19, 20, 22]</td>\n    </tr>\n    <tr>\n      <th>1</th>\n      <td>[[-8.612964, 41.140359], [-8.613378, 41.14035]...</td>\n      <td>[0, 3, 6, 9, 11, 13, 16, 18, 21, 24, 27, 29, 3...</td>\n    </tr>\n    <tr>\n      <th>2</th>\n      <td>[[-8.574678, 41.151951], [-8.574705, 41.151942...</td>\n      <td>[0, 3, 6, 8, 10, 12, 14, 16, 18, 21, 23, 26, 2...</td>\n    </tr>\n    <tr>\n      <th>3</th>\n      <td>[[-8.645994, 41.18049], [-8.645949, 41.180517]...</td>\n      <td>[0, 2, 4, 6, 8, 10, 12, 15, 17, 19, 21, 24, 26...</td>\n    </tr>\n    <tr>\n      <th>4</th>\n      <td>[[-8.615502, 41.140674], [-8.614854, 41.140926...</td>\n      <td>[0, 2, 5, 8, 11, 14, 16, 18, 20, 22, 25]</td>\n    </tr>\n    <tr>\n      <th>...</th>\n      <td>...</td>\n      <td>...</td>\n    </tr>\n    <tr>\n      <th>89006</th>\n      <td>[[-8.649297, 41.154309], [-8.650044, 41.154228...</td>\n      <td>[0, 2, 5, 8, 11, 14, 16, 19, 21, 23, 26, 28, 3...</td>\n    </tr>\n    <tr>\n      <th>89007</th>\n      <td>[[-8.6139, 41.141133], [-8.613891, 41.141115],...</td>\n      <td>[0, 3, 5, 8, 11, 13, 15, 17, 20, 23, 26, 29, 3...</td>\n    </tr>\n    <tr>\n      <th>89008</th>\n      <td>[[-8.606475, 41.144508], [-8.60652, 41.144517]...</td>\n      <td>[0, 3, 5, 7, 9, 11, 13, 16, 19, 22, 24, 26, 29...</td>\n    </tr>\n    <tr>\n      <th>89009</th>\n      <td>[[-8.604945, 41.149692], [-8.605368, 41.149773...</td>\n      <td>[0, 2, 4, 6, 8, 10, 13, 15, 18, 22, 24, 26, 28...</td>\n    </tr>\n    <tr>\n      <th>89010</th>\n      <td>[[-8.613999, 41.141376], [-8.61399, 41.141367]...</td>\n      <td>[0, 4, 7, 10, 12, 15, 18, 21, 24, 26, 29, 31, ...</td>\n    </tr>\n  </tbody>\n</table>\n<p>89011 rows × 2 columns</p>\n</div>"
     },
     "execution_count": 29,
     "metadata": {},
     "output_type": "execute_result"
    }
   ],
   "source": [
    "trajectories[\"CP_INDEX\"] = all_cp_index\n",
    "trajectories"
   ],
   "metadata": {
    "collapsed": false
   }
  },
  {
   "cell_type": "code",
   "execution_count": 30,
   "outputs": [],
   "source": [
    "fout = open(\"../data/porto-data/processed_small_porto_with_cp.csv\", 'w')\n",
    "fout.write(\"POLYLINE, CP_INDEX\\n\")\n",
    "for i, (idx, traj) in enumerate(trajectories.iterrows()):\n",
    "    fout.write('\"' + str(traj[\"POLYLINE\"]) + '\",')\n",
    "    fout.write('\"' + str(traj[\"CP_INDEX\"]) + '\"\\n')\n",
    "fout.close()"
   ],
   "metadata": {
    "collapsed": false
   }
  }
 ],
 "metadata": {
  "kernelspec": {
   "display_name": "Python 3",
   "language": "python",
   "name": "python3"
  },
  "language_info": {
   "codemirror_mode": {
    "name": "ipython",
    "version": 2
   },
   "file_extension": ".py",
   "mimetype": "text/x-python",
   "name": "python",
   "nbconvert_exporter": "python",
   "pygments_lexer": "ipython2",
   "version": "2.7.6"
  }
 },
 "nbformat": 4,
 "nbformat_minor": 0
}
