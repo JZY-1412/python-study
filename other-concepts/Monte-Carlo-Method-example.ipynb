{
 "cells": [
  {
   "cell_type": "code",
   "execution_count": 6,
   "metadata": {
    "collapsed": true
   },
   "outputs": [
    {
     "name": "stdout",
     "output_type": "stream",
     "text": [
      "3.1429\n"
     ]
    }
   ],
   "source": [
    "import random\n",
    "\n",
    "def cal_pai():\n",
    "    n = 1000000\n",
    "    r = 1.0\n",
    "    a, b = (0.0, 0.0)\n",
    "    x_neg, x_pos = a - r, a + r\n",
    "    y_neg, y_pos = b - r, b + r\n",
    "\n",
    "    count = 0\n",
    "    for i in range(n):\n",
    "        x = random.uniform(x_neg, x_pos)\n",
    "        y = random.uniform(y_neg, y_pos)\n",
    "        if x**2 + y**2 <= r:\n",
    "            count += 1\n",
    "\n",
    "    print((count / n) * 4)\n",
    "\n",
    "cal_pai()"
   ]
  },
  {
   "cell_type": "markdown",
   "source": [
    "n 为采样的总数\n",
    "r 为半径\n",
    "a 和 b 为圆心\n",
    "x_neg, x_pos 为 x 轴上的圆的范围\n",
    "y_neg, y_pos 为 y 轴上的圆的范围\n",
    "\n",
    "采样 n 个点后，通过计算 x^2 + y^2 判断 (x, y) 是否在圆内。\n",
    "因为点是均匀分布的，所以圆周率 pai = (count / n) * 4。(因为圆在 4r^2 的正方形中的面积占比为 pai/4)"
   ],
   "metadata": {
    "collapsed": false
   }
  },
  {
   "cell_type": "code",
   "execution_count": 9,
   "outputs": [
    {
     "name": "stdout",
     "output_type": "stream",
     "text": [
      "0.333327\n"
     ]
    }
   ],
   "source": [
    "def integral():\n",
    "    n = 1000000\n",
    "    x_min, x_max = 0.0, 1.0\n",
    "    y_min, y_max = 0.0, 1.0\n",
    "\n",
    "    count = 0\n",
    "    for i in range(0, n):\n",
    "        x = random.uniform(x_min, x_max)\n",
    "        y = random.uniform(y_min, y_max)\n",
    "\n",
    "        if x**2 > y:\n",
    "            count += 1\n",
    "\n",
    "    integral_value = count / n\n",
    "    print(integral_value)\n",
    "\n",
    "integral()"
   ],
   "metadata": {
    "collapsed": false
   }
  },
  {
   "cell_type": "markdown",
   "source": [
    "求 x^2 的在 0 到 1 之间的积分，使用蒙特卡洛方法求出曲线下的面积 / 整个 0,0 到 1,1 的正方形的面积。"
   ],
   "metadata": {
    "collapsed": false
   }
  }
 ],
 "metadata": {
  "kernelspec": {
   "display_name": "Python 3",
   "language": "python",
   "name": "python3"
  },
  "language_info": {
   "codemirror_mode": {
    "name": "ipython",
    "version": 2
   },
   "file_extension": ".py",
   "mimetype": "text/x-python",
   "name": "python",
   "nbconvert_exporter": "python",
   "pygments_lexer": "ipython2",
   "version": "2.7.6"
  }
 },
 "nbformat": 4,
 "nbformat_minor": 0
}
