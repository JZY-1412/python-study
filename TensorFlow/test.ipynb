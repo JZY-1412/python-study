{
 "cells": [
  {
   "cell_type": "code",
   "execution_count": 12,
   "metadata": {
    "collapsed": true
   },
   "outputs": [],
   "source": [
    "import tensorflow as tf\n",
    "import numpy as np"
   ]
  },
  {
   "cell_type": "code",
   "execution_count": 13,
   "outputs": [],
   "source": [
    "X = np.array([[0, 1, 2], [3, 4, 5]])\n",
    "Y = tf.cast(X, tf.float32)"
   ],
   "metadata": {
    "collapsed": false
   }
  },
  {
   "cell_type": "code",
   "execution_count": 14,
   "outputs": [
    {
     "data": {
      "text/plain": "(array([[0, 1, 2],\n        [3, 4, 5]]),\n <tf.Tensor: shape=(2, 3), dtype=float32, numpy=\n array([[0., 1., 2.],\n        [3., 4., 5.]], dtype=float32)>)"
     },
     "execution_count": 14,
     "metadata": {},
     "output_type": "execute_result"
    }
   ],
   "source": [
    "X, Y"
   ],
   "metadata": {
    "collapsed": false
   }
  },
  {
   "cell_type": "code",
   "execution_count": 19,
   "outputs": [
    {
     "name": "stdout",
     "output_type": "stream",
     "text": [
      "tf.Tensor([[2.5]], shape=(1, 1), dtype=float32)\n",
      "tf.Tensor([1.5 2.5 3.5], shape=(3,), dtype=float32)\n",
      "tf.Tensor([1. 4.], shape=(2,), dtype=float32)\n",
      "tf.Tensor([1. 4.], shape=(2,), dtype=float32)\n"
     ]
    }
   ],
   "source": [
    "mean_all = tf.reduce_mean(Y, keepdims=True)\n",
    "print(mean_all)\n",
    "mean_0 = tf.reduce_mean(Y, axis=0)\n",
    "print(mean_0)\n",
    "mean_1 = tf.reduce_mean(Y, axis=1)\n",
    "print(mean_1)\n",
    "mean__1 = tf.reduce_mean(Y, axis=-1)\n",
    "print(mean__1)"
   ],
   "metadata": {
    "collapsed": false
   }
  }
 ],
 "metadata": {
  "kernelspec": {
   "display_name": "Python 3",
   "language": "python",
   "name": "python3"
  },
  "language_info": {
   "codemirror_mode": {
    "name": "ipython",
    "version": 2
   },
   "file_extension": ".py",
   "mimetype": "text/x-python",
   "name": "python",
   "nbconvert_exporter": "python",
   "pygments_lexer": "ipython2",
   "version": "2.7.6"
  }
 },
 "nbformat": 4,
 "nbformat_minor": 0
}
