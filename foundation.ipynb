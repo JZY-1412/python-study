{
 "cells": [
  {
   "cell_type": "code",
   "execution_count": 2,
   "outputs": [
    {
     "data": {
      "text/plain": "'1.13.0'"
     },
     "execution_count": 2,
     "metadata": {},
     "output_type": "execute_result"
    }
   ],
   "source": [
    "import torch\n",
    "\n",
    "\n",
    "torch.__version__"
   ],
   "metadata": {
    "collapsed": false
   }
  },
  {
   "cell_type": "code",
   "execution_count": 5,
   "outputs": [
    {
     "data": {
      "text/plain": "tensor([[-1.4379e-35,  5.3810e-43, -1.4379e-35],\n        [ 5.3810e-43, -1.4379e-35,  5.3810e-43],\n        [-1.4379e-35,  5.3810e-43, -1.4379e-35],\n        [ 5.3810e-43, -1.4379e-35,  5.3810e-43],\n        [-1.4379e-35,  5.3810e-43, -1.4379e-35]])"
     },
     "execution_count": 5,
     "metadata": {},
     "output_type": "execute_result"
    }
   ],
   "source": [
    "x = torch.empty(5, 3)\n",
    "x"
   ],
   "metadata": {
    "collapsed": false
   }
  },
  {
   "cell_type": "code",
   "execution_count": 6,
   "outputs": [
    {
     "data": {
      "text/plain": "tensor([[0.4748, 0.1309, 0.9365],\n        [0.9221, 0.3333, 0.0544],\n        [0.9780, 0.4985, 0.3394],\n        [0.9249, 0.7939, 0.2377],\n        [0.3498, 0.5093, 0.6431]])"
     },
     "execution_count": 6,
     "metadata": {},
     "output_type": "execute_result"
    }
   ],
   "source": [
    "x = torch.rand(5, 3)\n",
    "x"
   ],
   "metadata": {
    "collapsed": false
   }
  },
  {
   "cell_type": "code",
   "execution_count": 7,
   "outputs": [
    {
     "data": {
      "text/plain": "tensor([[0, 0, 0],\n        [0, 0, 0],\n        [0, 0, 0],\n        [0, 0, 0],\n        [0, 0, 0]])"
     },
     "execution_count": 7,
     "metadata": {},
     "output_type": "execute_result"
    }
   ],
   "source": [
    "x = torch.zeros(5, 3, dtype=torch.long)\n",
    "x"
   ],
   "metadata": {
    "collapsed": false
   }
  },
  {
   "cell_type": "code",
   "execution_count": 8,
   "outputs": [
    {
     "data": {
      "text/plain": "tensor([5.5000, 3.0000])"
     },
     "execution_count": 8,
     "metadata": {},
     "output_type": "execute_result"
    }
   ],
   "source": [
    "x = torch.tensor([5.5, 3])\n",
    "x"
   ],
   "metadata": {
    "collapsed": false
   }
  },
  {
   "cell_type": "code",
   "execution_count": 15,
   "outputs": [
    {
     "data": {
      "text/plain": "tensor([[-0.3698,  0.5935,  0.6025],\n        [-1.1291, -0.1057, -0.1708],\n        [-1.1710, -2.4383,  0.2945],\n        [-0.1116,  0.3720,  1.9553],\n        [ 0.2466,  0.0198, -1.1760]])"
     },
     "execution_count": 15,
     "metadata": {},
     "output_type": "execute_result"
    }
   ],
   "source": [
    "x = x.new_ones(5, 3, dtype=torch.double)\n",
    "x = torch.randn_like(x, dtype=torch.float)\n",
    "x"
   ],
   "metadata": {
    "collapsed": false
   }
  },
  {
   "cell_type": "code",
   "execution_count": 13,
   "outputs": [
    {
     "data": {
      "text/plain": "torch.Size([5, 3])"
     },
     "execution_count": 13,
     "metadata": {},
     "output_type": "execute_result"
    }
   ],
   "source": [
    "x.size()"
   ],
   "metadata": {
    "collapsed": false
   }
  },
  {
   "cell_type": "code",
   "execution_count": 16,
   "outputs": [
    {
     "data": {
      "text/plain": "tensor([[ 0.4713,  1.5303,  0.6084],\n        [-0.3471,  0.1255,  0.6959],\n        [-0.7181, -1.5075,  1.1814],\n        [ 0.7806,  0.5250,  2.7135],\n        [ 0.6549,  0.3485, -0.4412]])"
     },
     "execution_count": 16,
     "metadata": {},
     "output_type": "execute_result"
    }
   ],
   "source": [
    "y = torch.rand(5, 3)\n",
    "x + y"
   ],
   "metadata": {
    "collapsed": false
   }
  },
  {
   "cell_type": "code",
   "execution_count": 17,
   "outputs": [
    {
     "data": {
      "text/plain": "tensor([[ 0.4713,  1.5303,  0.6084],\n        [-0.3471,  0.1255,  0.6959],\n        [-0.7181, -1.5075,  1.1814],\n        [ 0.7806,  0.5250,  2.7135],\n        [ 0.6549,  0.3485, -0.4412]])"
     },
     "execution_count": 17,
     "metadata": {},
     "output_type": "execute_result"
    }
   ],
   "source": [
    "torch.add(x, y)"
   ],
   "metadata": {
    "collapsed": false
   }
  },
  {
   "cell_type": "code",
   "execution_count": 20,
   "outputs": [
    {
     "name": "stdout",
     "output_type": "stream",
     "text": [
      "tensor([[-0.3698,  0.5935,  0.6025],\n",
      "        [-1.1291, -0.1057, -0.1708],\n",
      "        [-1.1710, -2.4383,  0.2945],\n",
      "        [-0.1116,  0.3720,  1.9553],\n",
      "        [ 0.2466,  0.0198, -1.1760]])\n",
      "tensor([-0.3698, -1.1291, -1.1710, -0.1116,  0.2466])\n"
     ]
    }
   ],
   "source": [
    "print(x)\n",
    "print(x[:, 0])"
   ],
   "metadata": {
    "collapsed": false
   }
  },
  {
   "cell_type": "code",
   "execution_count": 24,
   "outputs": [
    {
     "name": "stdout",
     "output_type": "stream",
     "text": [
      "torch.Size([4, 4]) torch.Size([16]) torch.Size([2, 8])\n",
      "tensor([[ 0.2726, -0.4043,  0.6940, -0.7451],\n",
      "        [-0.9207,  0.1932, -0.4311,  1.3665],\n",
      "        [-0.4346, -1.0982, -0.3426, -1.6440],\n",
      "        [-0.0437, -0.4718, -0.3156, -0.6642]])\n",
      "tensor([ 0.2726, -0.4043,  0.6940, -0.7451, -0.9207,  0.1932, -0.4311,  1.3665,\n",
      "        -0.4346, -1.0982, -0.3426, -1.6440, -0.0437, -0.4718, -0.3156, -0.6642])\n",
      "tensor([[ 0.2726, -0.4043,  0.6940, -0.7451, -0.9207,  0.1932, -0.4311,  1.3665],\n",
      "        [-0.4346, -1.0982, -0.3426, -1.6440, -0.0437, -0.4718, -0.3156, -0.6642]])\n"
     ]
    }
   ],
   "source": [
    "x = torch.randn(4, 4)\n",
    "y = x.view(16)\n",
    "z = x.view(-1, 8)\n",
    "# -1 means auto compute the parameter\n",
    "print(x.size(), y.size(), z.size())\n",
    "print(x)\n",
    "print(y)\n",
    "print(z)"
   ],
   "metadata": {
    "collapsed": false
   }
  },
  {
   "cell_type": "code",
   "execution_count": 25,
   "outputs": [
    {
     "data": {
      "text/plain": "array([1., 1., 1., 1., 1.], dtype=float32)"
     },
     "execution_count": 25,
     "metadata": {},
     "output_type": "execute_result"
    }
   ],
   "source": [
    "a = torch.ones(5)\n",
    "b = a.numpy()\n",
    "b"
   ],
   "metadata": {
    "collapsed": false
   }
  },
  {
   "cell_type": "code",
   "execution_count": 26,
   "outputs": [
    {
     "data": {
      "text/plain": "tensor([1., 1., 1., 1., 1.], dtype=torch.float64)"
     },
     "execution_count": 26,
     "metadata": {},
     "output_type": "execute_result"
    }
   ],
   "source": [
    "import numpy as np\n",
    "a = np.ones(5)\n",
    "b = torch.from_numpy(a)\n",
    "b"
   ],
   "metadata": {
    "collapsed": false
   }
  }
 ],
 "metadata": {
  "kernelspec": {
   "display_name": "Python 3",
   "language": "python",
   "name": "python3"
  },
  "language_info": {
   "codemirror_mode": {
    "name": "ipython",
    "version": 2
   },
   "file_extension": ".py",
   "mimetype": "text/x-python",
   "name": "python",
   "nbconvert_exporter": "python",
   "pygments_lexer": "ipython2",
   "version": "2.7.6"
  }
 },
 "nbformat": 4,
 "nbformat_minor": 0
}
